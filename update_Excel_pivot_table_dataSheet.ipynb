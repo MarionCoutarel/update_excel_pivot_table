{
 "cells": [
  {
   "cell_type": "code",
   "execution_count": 59,
   "metadata": {
    "ExecuteTime": {
     "end_time": "2022-08-04T10:06:43.340132Z",
     "start_time": "2022-08-04T10:06:43.328234Z"
    }
   },
   "outputs": [],
   "source": [
    "import numpy as np\n",
    "import pandas as pd\n",
    "import openpyxl\n",
    "import os\n",
    "import win32com.client\n",
    "\n",
    "from openpyxl import load_workbook\n",
    "from openpyxl.utils.dataframe import dataframe_to_rows"
   ]
  },
  {
   "cell_type": "markdown",
   "metadata": {},
   "source": [
    "L'objectif de ce script est de générer des fichiers Excel comportant 4 TCD dans 4 onglets différents à partir de fichier csv nichés dans des sous-dossiers d'un dossier principal à parcourrir.\n",
    "\n",
    "L'idée est de copier/coller les information du CSV dans un template préalablement préparé (fichier_destination.xlsx) de manière à n'avoir qu'à actualiser les sources de TCD à l'ouverture de chaque fichier final.\n",
    "\n",
    "Les fichiers finaux doivent être renommé de la manière suivante :\n",
    "- code du logiciel de destination (ici Sage 1000) : correspondant au 3 premiers caractères du code présent dans la première colonne\n",
    "- un chaine de caractères fixes\n",
    "- le numéro d'ordre du fichier dans le sous-dossier\n",
    "\n",
    "L'ensemble des fichiers générés doivent être stocké dans un dossier séparé.\n",
    "\n",
    "Une table de synthèse doit être générée contenant:\n",
    "- le code logiciel source : correspondant au nom du sous-dossier\n",
    "- le code du logiciel de destination : cf ci-dessus\n",
    "- le nom du fichier source\n",
    "- le nom du fichier final"
   ]
  },
  {
   "cell_type": "markdown",
   "metadata": {},
   "source": [
    "## Chargement du fichier de destination"
   ]
  },
  {
   "cell_type": "code",
   "execution_count": 60,
   "metadata": {
    "ExecuteTime": {
     "end_time": "2022-08-04T10:06:46.960150Z",
     "start_time": "2022-08-04T10:06:46.883426Z"
    }
   },
   "outputs": [
    {
     "data": {
      "text/plain": [
       "['Sources', 'TCD Cohérence', 'TCD BG', 'TCD BGAUX', 'TCD BANA']"
      ]
     },
     "execution_count": 60,
     "metadata": {},
     "output_type": "execute_result"
    }
   ],
   "source": [
    "# grâce à openpyxl on charge le fichier de destination. Celui-ci contient 5 onglets. Nous allons travailler \n",
    "#sur la feuille source\n",
    "\n",
    "wb_destination = load_workbook(\"fichier_destination.xlsx\")\n",
    "wb_destination.sheetnames"
   ]
  },
  {
   "cell_type": "code",
   "execution_count": 61,
   "metadata": {
    "ExecuteTime": {
     "end_time": "2022-08-04T10:06:49.176906Z",
     "start_time": "2022-08-04T10:06:49.160924Z"
    }
   },
   "outputs": [],
   "source": [
    "sheet = wb_destination[\"Sources\"]\n"
   ]
  },
  {
   "cell_type": "markdown",
   "metadata": {},
   "source": [
    "## Exploration rapide des répertoires et fichiers à traiter"
   ]
  },
  {
   "cell_type": "code",
   "execution_count": 62,
   "metadata": {
    "ExecuteTime": {
     "end_time": "2022-08-04T10:06:52.841754Z",
     "start_time": "2022-08-04T10:06:52.830791Z"
    }
   },
   "outputs": [
    {
     "data": {
      "text/plain": [
       "23"
      ]
     },
     "execution_count": 62,
     "metadata": {},
     "output_type": "execute_result"
    }
   ],
   "source": [
    "# le dossier source contient 23 sous-dossiers \n",
    "folderpath = \"dossier source\"\n",
    "subfolderlist = os.listdir(folderpath)\n",
    "len(subfolderlist)"
   ]
  },
  {
   "cell_type": "code",
   "execution_count": 5,
   "metadata": {
    "ExecuteTime": {
     "end_time": "2022-08-04T07:28:34.944947Z",
     "start_time": "2022-08-04T07:28:34.903424Z"
    }
   },
   "outputs": [
    {
     "name": "stdout",
     "output_type": "stream",
     "text": [
      "[1, 2, 1, 2, 1, 1, 1, 1, 1, 1, 2, 1, 1, 1, 1, 1, 1, 1, 2, 1, 1, 1, 1]\n",
      "27\n"
     ]
    }
   ],
   "source": [
    "# chaque sous dossier contient 1 ou 2 csv. Au final nous devons donc générer 27 fichiers Excel\n",
    "list = []\n",
    "for subfolder in subfolderlist:\n",
    "    filelist = os.listdir(\"{}\\{}\".format(folderpath,subfolder))\n",
    "    list.append(len(filelist))\n",
    "print (list)\n",
    "print (sum(list))"
   ]
  },
  {
   "cell_type": "code",
   "execution_count": 6,
   "metadata": {
    "ExecuteTime": {
     "end_time": "2022-08-04T07:28:35.040898Z",
     "start_time": "2022-08-04T07:28:34.952938Z"
    }
   },
   "outputs": [
    {
     "name": "stdout",
     "output_type": "stream",
     "text": [
      "<class 'pandas.core.frame.DataFrame'>\n",
      "RangeIndex: 6 entries, 0 to 5\n",
      "Data columns (total 25 columns):\n",
      " #   Column              Non-Null Count  Dtype  \n",
      "---  ------              --------------  -----  \n",
      " 0   ETAB                6 non-null      int64  \n",
      " 1   JNAL                6 non-null      object \n",
      " 2   TYPE PIECE          6 non-null      object \n",
      " 3   REF PIÈCE           6 non-null      object \n",
      " 4   DATE PIÈCE          6 non-null      object \n",
      " 5   LIB PIÈCE           6 non-null      object \n",
      " 6   CPT GENERAL         6 non-null      int64  \n",
      " 7   AUXILIAIRE TIERS    1 non-null      float64\n",
      " 8   LIBELLE ECR         6 non-null      object \n",
      " 9   SENS                6 non-null      object \n",
      " 10  MONTANT TENUE CPTE  6 non-null      float64\n",
      " 11  MONTANT TRANSAC     6 non-null      float64\n",
      " 12  DEV                 6 non-null      object \n",
      " 13  DATE ECH            0 non-null      float64\n",
      " 14  MODE REG            0 non-null      float64\n",
      " 15  SECTION ANA         2 non-null      object \n",
      " 16  DEV TC              6 non-null      object \n",
      " 17  CODE LET            0 non-null      float64\n",
      " 18  PROFIL TVA          0 non-null      float64\n",
      " 19  DETAIL AFFAIRE      0 non-null      float64\n",
      " 20  CLASSE CPTE         6 non-null      int64  \n",
      " 21  M SIGNE TC          6 non-null      float64\n",
      " 22  M SIGNE TR          6 non-null      float64\n",
      " 23  TYPE CPTE           1 non-null      object \n",
      " 24  RECID AX            0 non-null      float64\n",
      "dtypes: float64(11), int64(3), object(11)\n",
      "memory usage: 1.3+ KB\n"
     ]
    }
   ],
   "source": [
    "# l'encodage de mes csv est un peu spécifique donc je spécifie l'encofage, le séparateur et le décimal. \n",
    "# Je vérifie notamment que es colonnes \"MONTANT XXX\" et \"M_Signe_XX\" sont bien en float\n",
    "df = pd.read_csv(\"dossier source\\SCT_A\\ZZ-MATRICE-21- SCT_A POUR CORRECTION 2021.csv\", \n",
    "                 encoding=\"iso8859_15\", sep=\";\", decimal =\",\")\n",
    "df.info()"
   ]
  },
  {
   "cell_type": "code",
   "execution_count": null,
   "metadata": {
    "ExecuteTime": {
     "end_time": "2022-08-03T15:29:48.697274Z",
     "start_time": "2022-08-03T15:29:48.687308Z"
    }
   },
   "outputs": [],
   "source": []
  },
  {
   "cell_type": "markdown",
   "metadata": {
    "ExecuteTime": {
     "end_time": "2022-08-03T15:00:17.813930Z",
     "start_time": "2022-08-03T15:00:17.796225Z"
    }
   },
   "source": [
    "## Construction des fonctions"
   ]
  },
  {
   "cell_type": "code",
   "execution_count": 11,
   "metadata": {
    "ExecuteTime": {
     "end_time": "2022-08-04T07:55:24.447572Z",
     "start_time": "2022-08-04T07:55:24.430628Z"
    }
   },
   "outputs": [],
   "source": [
    "# A chaque itération je vais devoir effacer la feuille source\n",
    "# je conserve néanmoins les entêtes\n",
    "\n",
    "def delete_sheet(sheet):\n",
    "    while(sheet.max_row>1):\n",
    "        sheet.delete_rows(2)\n",
    "    return\n"
   ]
  },
  {
   "cell_type": "code",
   "execution_count": 12,
   "metadata": {
    "ExecuteTime": {
     "end_time": "2022-08-04T07:55:26.049629Z",
     "start_time": "2022-08-04T07:55:26.045642Z"
    }
   },
   "outputs": [],
   "source": [
    "delete_sheet(sheet)"
   ]
  },
  {
   "cell_type": "code",
   "execution_count": 13,
   "metadata": {
    "ExecuteTime": {
     "end_time": "2022-08-04T07:55:27.473454Z",
     "start_time": "2022-08-04T07:55:27.387610Z"
    }
   },
   "outputs": [],
   "source": [
    "wb_destination.save(\"test.xlsx\")"
   ]
  },
  {
   "cell_type": "markdown",
   "metadata": {
    "ExecuteTime": {
     "end_time": "2022-08-03T15:06:32.544117Z",
     "start_time": "2022-08-03T15:06:32.466326Z"
    }
   },
   "source": [
    "## Construction de la boucle pour changer les sources"
   ]
  },
  {
   "cell_type": "code",
   "execution_count": 11,
   "metadata": {
    "ExecuteTime": {
     "end_time": "2022-08-04T07:32:26.541035Z",
     "start_time": "2022-08-04T07:32:11.291297Z"
    },
    "scrolled": true
   },
   "outputs": [],
   "source": [
    "# initialisation de la table de synthèse\n",
    "synthese = pd.DataFrame.from_dict({\"NomLogSource\": [np.nan], \"NomLogCible\": [\n",
    "                                  np.nan], \"NomFichierOrigine\": [np.nan], \"NomFichierFinal\": [np.nan]})\n",
    "# initialisation de l'index du DF synthese\n",
    "index = 0\n",
    "# designation du dossier sur lequel itérer\n",
    "folderpath = \"dossier source\"\n",
    "\n",
    "# boucle\n",
    "for subfolder in subfolderlist:\n",
    "    #  le nom de sous-dossier est le nom de la société dans mon logiel source \n",
    "    nom_log_source = subfolder\n",
    "    filelist = os.listdir(\"{}\\{}\".format(folderpath,subfolder))\n",
    "    ordre_fichier = 1\n",
    "    for file in filelist:\n",
    "        #attention à l'encodage de mes csv notamment au séparateur de décimal pour ne pas générer d'erreur en sortie\n",
    "        df = pd.read_csv(\"{}\\{}\\{}\".format(folderpath,subfolder,file), \n",
    "                 encoding=\"iso8859_15\", sep=\";\", decimal =\",\")\n",
    "        \n",
    "        # les 3 premiers caractère de la premiere entrée du df sont le code société dans mon logiciel cible\n",
    "        nom_log_cible = str(df.loc[0][df.columns[0]])[:3]\n",
    "        # effacer la feuille \"source\" du workbook de destination\n",
    "        delete_sheet(sheet)\n",
    "        # Remplacer les valeurs par celles du df\n",
    "        for row in dataframe_to_rows(df, index=False,header=False):\n",
    "            sheet.append(row)\n",
    "        # on génére le nom de fichier final\n",
    "        nom_fichier_final = \"{} - chaine de caratere - {}.xlsx\".format(nom_log_cible, ordre_fichier)\n",
    "        ordre_fichier = ordre_fichier + 1\n",
    "        # on rajoute un rang à la table de synthèse\n",
    "        synthese.loc[index] = [nom_log_source, nom_log_cible, file, nom_fichier_final]\n",
    "        index = index+1\n",
    "        # on sauvegarde le workbook comme un nouveau fichier excel\n",
    "        wb_destination.save(\"dossier_final\\{}\".format(nom_fichier_final))\n",
    "       \n",
    "    synthese.to_excel(\"synthese.xlsx\", index=False)"
   ]
  },
  {
   "cell_type": "markdown",
   "metadata": {},
   "source": [
    "## Actualisation des TCD"
   ]
  },
  {
   "cell_type": "code",
   "execution_count": 66,
   "metadata": {
    "ExecuteTime": {
     "end_time": "2022-08-04T10:13:45.700261Z",
     "start_time": "2022-08-04T10:13:15.019264Z"
    }
   },
   "outputs": [],
   "source": [
    "dirpath = \"dossier_final\"\n",
    "fileList = os.listdir(\"dossier_final\")[21:]\n",
    "for file in fileList:\n",
    "    rel_path = \"{}\\{}\".format(dirpath,file)\n",
    "    abs_path = os.path.abspath(rel_path)\n",
    "\n",
    "    excel = win32com.client.Dispatch(\"Excel.Application\")\n",
    "\n",
    "    wb = excel.Workbooks.Open(abs_path) # work only with absolute path\n",
    "    count = wb.Sheets.Count\n",
    "    for i in range(2,count):\n",
    "        ws = wb.Worksheets[i]\n",
    "        ws.Unprotect() # IF protected\n",
    "\n",
    "        pivotCount = ws.PivotTables().Count\n",
    "        for j in range(1, pivotCount+1):\n",
    "            ws.PivotTables(j).PivotCache().Refresh()\n",
    "\n",
    "    wb.Close(True) \n",
    "    excel.quit()\n",
    "    excel = None\n",
    "    del excel"
   ]
  }
 ],
 "metadata": {
  "hide_input": false,
  "kernelspec": {
   "display_name": "Python 3",
   "language": "python",
   "name": "python3"
  },
  "language_info": {
   "codemirror_mode": {
    "name": "ipython",
    "version": 3
   },
   "file_extension": ".py",
   "mimetype": "text/x-python",
   "name": "python",
   "nbconvert_exporter": "python",
   "pygments_lexer": "ipython3",
   "version": "3.8.5"
  },
  "toc": {
   "base_numbering": 1,
   "nav_menu": {},
   "number_sections": true,
   "sideBar": true,
   "skip_h1_title": false,
   "title_cell": "Table of Contents",
   "title_sidebar": "Contents",
   "toc_cell": false,
   "toc_position": {},
   "toc_section_display": true,
   "toc_window_display": false
  }
 },
 "nbformat": 4,
 "nbformat_minor": 4
}
